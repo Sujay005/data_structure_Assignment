{
  "nbformat": 4,
  "nbformat_minor": 0,
  "metadata": {
    "colab": {
      "provenance": []
    },
    "kernelspec": {
      "name": "python3",
      "display_name": "Python 3"
    },
    "language_info": {
      "name": "python"
    }
  },
  "cells": [
    {
      "cell_type": "markdown",
      "source": [
        "# **1. Discuss string slicing and provide examples.**\n",
        "\n",
        "String slicing is a process by which we can access substrings within the string\n",
        "and extract the parts of string by its index using the syntax  .\n",
        "\n",
        "string[start : stop : step]\n",
        "\n",
        "-start: index to bigin the slice (inclusive)\n",
        "\n",
        "-stop: index to end the slice (exclusive)\n",
        "\n",
        "-step: interval between characters in slice.\n",
        "\n",
        "It is the powerful feature of manupulating and accessing the substrings efficiently.\n",
        "\n"
      ],
      "metadata": {
        "id": "ct3srGzMhSVu"
      }
    },
    {
      "cell_type": "code",
      "source": [
        "#Examples\n",
        "str ='Hello world'\n",
        "substr1=str[0:5]\n",
        "substr2=str[::2]  # with step size\n",
        "substr3= str[::-1] # reverse the string\n",
        "\n",
        "print(substr1)\n",
        "print(substr2)\n",
        "print(substr3)\n",
        "\n",
        "str[-5::]  # using negative indexing\n"
      ],
      "metadata": {
        "colab": {
          "base_uri": "https://localhost:8080/",
          "height": 88
        },
        "id": "eRFtOiyOkcFk",
        "outputId": "9c4d40d4-204c-483b-eb05-1b8bbcc0cbcc"
      },
      "execution_count": null,
      "outputs": [
        {
          "output_type": "stream",
          "name": "stdout",
          "text": [
            "Hello\n",
            "Hlowrd\n",
            "dlrow olleH\n"
          ]
        },
        {
          "output_type": "execute_result",
          "data": {
            "text/plain": [
              "'world'"
            ],
            "application/vnd.google.colaboratory.intrinsic+json": {
              "type": "string"
            }
          },
          "metadata": {},
          "execution_count": 2
        }
      ]
    },
    {
      "cell_type": "code",
      "source": [],
      "metadata": {
        "id": "zrvwKCpOnuBi"
      },
      "execution_count": null,
      "outputs": []
    },
    {
      "cell_type": "markdown",
      "source": [
        "# **2. Explain the key features of lists in Python**\n",
        "\n",
        "List in python are versattile and commonly used data structure. Key features include:-\n",
        "\n",
        "-Ordered: elements have a defined order and can access them using its index and indexing/slicing can be done.\n",
        "\n",
        "-Mutable: we can modify, add, or remove elements after the list is created.\n",
        "\n",
        "-Heterogeneous: list cam contain elements of different data types.\n",
        "\n",
        "-Dynamic size: size of list can be incresed and reduced whenever needed.\n",
        "\n",
        "-Built-in-Methods: list have various built in methods for manupulation, like append(), remove(), sort(), reverse() etc.\n",
        "\n",
        "\n"
      ],
      "metadata": {
        "id": "0p11AlsaoiLf"
      }
    },
    {
      "cell_type": "code",
      "source": [
        "#examples\n",
        "my_list = [1, 2, 3]\n",
        "print(my_list[0])  # ordered indexing\n",
        "\n",
        "my_list[1] = 5\n",
        "my_list.append(6)\n",
        "print(my_list)    #mutable\n",
        "\n",
        "mixed_list = [1, \"hello\", 3.14]\n",
        "print(mixed_list)               # heterogeneous\n",
        "\n",
        "my_list.sort()\n",
        "print(my_list)                  # sorting with builtin method"
      ],
      "metadata": {
        "colab": {
          "base_uri": "https://localhost:8080/"
        },
        "id": "jxVtc6DGsaBx",
        "outputId": "0b9c1e8b-715a-4ef3-b4c4-d3f729fd932f"
      },
      "execution_count": null,
      "outputs": [
        {
          "output_type": "stream",
          "name": "stdout",
          "text": [
            "1\n",
            "[1, 5, 3, 6]\n",
            "[1, 'hello', 3.14]\n",
            "[1, 3, 5, 6]\n"
          ]
        }
      ]
    },
    {
      "cell_type": "code",
      "source": [],
      "metadata": {
        "id": "ICDwduQLvhNv"
      },
      "execution_count": null,
      "outputs": []
    },
    {
      "cell_type": "markdown",
      "source": [
        "# **3.Describe how to access, modify and delete the elements in a list with examples.**\n",
        "\n",
        "--We can access elements by their index using square brackets [].\n",
        "\n"
      ],
      "metadata": {
        "id": "XaqyXDcKJC4i"
      }
    },
    {
      "cell_type": "code",
      "source": [
        "my_list = [10, 20, 30, 40]\n",
        "print(my_list[1])  # Output: 20\n"
      ],
      "metadata": {
        "id": "Au9PzYjvv5HX",
        "colab": {
          "base_uri": "https://localhost:8080/"
        },
        "outputId": "3271d1d1-dd72-4cd4-c453-44e5c0e9103e"
      },
      "execution_count": null,
      "outputs": [
        {
          "output_type": "stream",
          "name": "stdout",
          "text": [
            "20\n"
          ]
        }
      ]
    },
    {
      "cell_type": "markdown",
      "source": [
        "--We can modify a list element by assigning a new value to a specific index."
      ],
      "metadata": {
        "id": "hnL1XwHlKOLD"
      }
    },
    {
      "cell_type": "code",
      "source": [
        "my_list[2] = 100\n",
        "print(my_list)  # Output: [10, 20, 100, 40]\n"
      ],
      "metadata": {
        "colab": {
          "base_uri": "https://localhost:8080/"
        },
        "id": "r1V8-oUPKLoU",
        "outputId": "d42cb38c-f61b-4655-e336-a297c3e5a690"
      },
      "execution_count": null,
      "outputs": [
        {
          "output_type": "stream",
          "name": "stdout",
          "text": [
            "[10, 20, 100, 40]\n"
          ]
        }
      ]
    },
    {
      "cell_type": "markdown",
      "source": [
        "--WE can delete elements using del, pop(), or remove()."
      ],
      "metadata": {
        "id": "_fLueiO2KcCZ"
      }
    },
    {
      "cell_type": "code",
      "source": [
        "#using del\n",
        "del my_list[1]\n",
        "print(my_list)  # Output: [10, 100, 40]\n",
        "\n",
        "#using pop()\n",
        "my_list.pop(1)\n",
        "print(my_list)  # Output: [10, 40]\n",
        "\n",
        "#using remove\n",
        "my_list.remove(40)\n",
        "print(my_list)  # Output: [10]\n"
      ],
      "metadata": {
        "id": "tABrG3dpKZNy"
      },
      "execution_count": null,
      "outputs": []
    },
    {
      "cell_type": "code",
      "source": [],
      "metadata": {
        "id": "_iiJaPDCLzvs"
      },
      "execution_count": null,
      "outputs": []
    },
    {
      "cell_type": "markdown",
      "source": [
        "# **4. Compare and contrast tuples and list with examples.**\n",
        "\n",
        "Lists and tuples are both data structures in Python, but they have some key differences:\n",
        "\n",
        "\n",
        "*Mutability:\n",
        "\n",
        "\n",
        "-----A list is mutable, meaning you can change its elements after it’s created. For example, you can add, remove, or modify elements in a list.\n",
        "\n",
        "-----A tuple is immutable, meaning once it’s created, you cannot change, add, or remove elements."
      ],
      "metadata": {
        "id": "FBl7NCmoL0EM"
      }
    },
    {
      "cell_type": "markdown",
      "source": [
        "Syntax:\n",
        "\n",
        "----A list is defined with square brackets [].\n",
        "\n",
        "----A tuple is defined with parentheses ()"
      ],
      "metadata": {
        "id": "AGZiiPFfN0n0"
      }
    },
    {
      "cell_type": "markdown",
      "source": [
        "Use Cases:\n",
        "\n",
        "----Lists are preferred when you need a collection of items that may change over time, such as a shopping list or a collection of student grades.\n",
        "\n",
        "\n",
        "----Tuples are used when you want to store data that shouldn’t change, like coordinates or fixed configuration values."
      ],
      "metadata": {
        "id": "rdmG5fzvOMmx"
      }
    },
    {
      "cell_type": "code",
      "source": [
        "#example of list\n",
        "my_list = [1, 2, 3]\n",
        "my_list[1] = 20  # Modify element\n",
        "my_list.append(4)  # Add element\n",
        "print(my_list)  # Output: [1, 20, 3, 4]\n",
        "\n",
        "#example of tuple.\n",
        "my_tuple = (1, 2, 3)\n",
        "#my_tuple[1] = 20  # This will raise an error as tuples cannot be modified\n",
        "print(my_tuple)  # Output: (1, 2, 3)\n",
        "\n"
      ],
      "metadata": {
        "colab": {
          "base_uri": "https://localhost:8080/"
        },
        "id": "OvB-oSdENqXK",
        "outputId": "d3b75ec7-7e46-407e-8e8d-5048de9cea25"
      },
      "execution_count": null,
      "outputs": [
        {
          "output_type": "stream",
          "name": "stdout",
          "text": [
            "[1, 20, 3, 4]\n"
          ]
        }
      ]
    },
    {
      "cell_type": "code",
      "source": [],
      "metadata": {
        "id": "XF3YHrWCOkO3"
      },
      "execution_count": null,
      "outputs": []
    },
    {
      "cell_type": "markdown",
      "source": [
        "# **5. Describe key features of sets and provide example of their use**\n",
        "\n",
        "Key features of det with examples:-\n",
        "\n",
        "1. unordered:no difined order of its elements.\n",
        "\n"
      ],
      "metadata": {
        "id": "XRfd00a4PVjt"
      }
    },
    {
      "cell_type": "code",
      "source": [
        "#order varies\n",
        "set1 ={1,3,2}\n",
        "set1"
      ],
      "metadata": {
        "colab": {
          "base_uri": "https://localhost:8080/"
        },
        "id": "qyBwian5Q1kK",
        "outputId": "967424ed-d9ad-4334-b4a0-9a8c42cb2477"
      },
      "execution_count": null,
      "outputs": [
        {
          "output_type": "execute_result",
          "data": {
            "text/plain": [
              "{1, 2, 3}"
            ]
          },
          "metadata": {},
          "execution_count": 4
        }
      ]
    },
    {
      "cell_type": "markdown",
      "source": [
        "2. Unique : contains only unique elements , duplicate elements are deleted."
      ],
      "metadata": {
        "id": "lOF_qy4DRWsD"
      }
    },
    {
      "cell_type": "code",
      "source": [
        "set1={1,1,2,2,3,3,3,3}\n",
        "set1"
      ],
      "metadata": {
        "colab": {
          "base_uri": "https://localhost:8080/"
        },
        "id": "knzCGUvJQ-wB",
        "outputId": "e764ffe0-6b65-4495-b29c-761aa0c2f817"
      },
      "execution_count": null,
      "outputs": [
        {
          "output_type": "execute_result",
          "data": {
            "text/plain": [
              "{1, 2, 3}"
            ]
          },
          "metadata": {},
          "execution_count": 12
        }
      ]
    },
    {
      "cell_type": "markdown",
      "source": [
        "3. Mutable: we can modify set after its creation."
      ],
      "metadata": {
        "id": "b8qBBRZ_SG08"
      }
    },
    {
      "cell_type": "code",
      "source": [
        "set1.remove(2)\n",
        "set1.add(5)\n",
        "set1"
      ],
      "metadata": {
        "colab": {
          "base_uri": "https://localhost:8080/"
        },
        "id": "oBl6ydX6R36W",
        "outputId": "3e8e5cff-cd0e-456f-fece-da0b033d0dce"
      },
      "execution_count": null,
      "outputs": [
        {
          "output_type": "execute_result",
          "data": {
            "text/plain": [
              "{1, 3, 5}"
            ]
          },
          "metadata": {},
          "execution_count": 13
        }
      ]
    },
    {
      "cell_type": "markdown",
      "source": [
        "4. Set operations: supports opertions like union, intersection, difference."
      ],
      "metadata": {
        "id": "N35jw43uTSH-"
      }
    },
    {
      "cell_type": "code",
      "source": [
        "set2={3,4,5,6,7}\n",
        "set3={6,7,8,9}\n",
        "print(set2.union(set3))\n",
        "print(set2.intersection(set3))\n",
        "print(set2-set3)\n"
      ],
      "metadata": {
        "colab": {
          "base_uri": "https://localhost:8080/"
        },
        "id": "ojVRtDnuSc-X",
        "outputId": "a11730b0-4b8f-4a85-cd20-b50507ad7224"
      },
      "execution_count": null,
      "outputs": [
        {
          "output_type": "stream",
          "name": "stdout",
          "text": [
            "{3, 4, 5, 6, 7, 8, 9}\n",
            "{6, 7}\n",
            "{3, 4, 5}\n"
          ]
        }
      ]
    },
    {
      "cell_type": "code",
      "source": [],
      "metadata": {
        "id": "mODDoWKNUVxY"
      },
      "execution_count": null,
      "outputs": []
    },
    {
      "cell_type": "markdown",
      "source": [
        "# **6. Discuss the use cases of tuples and sets in python programming.**\n",
        "\n",
        "Use cases of tuples:-\n",
        "\n",
        "--Tuples are used when we want to store data of fixed size that we never want to get modified .\n",
        "\n",
        "--And to store related but different data."
      ],
      "metadata": {
        "id": "vKuvHwTzV6fv"
      }
    },
    {
      "cell_type": "markdown",
      "source": [
        "Use cases of sets:-\n",
        "\n",
        "--Sets are use to store unique elements and remove duplicates and perform membership testing.\n",
        "\n",
        "--It is also used to perform mathematical set operations like (Umion , intersection)."
      ],
      "metadata": {
        "id": "zaKguQGHP8Fh"
      }
    },
    {
      "cell_type": "code",
      "source": [
        ""
      ],
      "metadata": {
        "id": "209eaugwLwwh"
      },
      "execution_count": null,
      "outputs": []
    },
    {
      "cell_type": "markdown",
      "source": [
        "# **7. Discuss how to add, modify and delete element in a dictionary with examples.**\n",
        "\n",
        "Adding modifying and deleteing element in a dictionary:-\n",
        "\n",
        "--Adding: we can add a new jey value pair by assigning a value to a key."
      ],
      "metadata": {
        "id": "EEq7ASDAVW82"
      }
    },
    {
      "cell_type": "code",
      "source": [
        "dict1 = {'name': 'Sujay', 'age': 21, }\n",
        "dict1['sub'] = 'Data science'\n",
        "dict1"
      ],
      "metadata": {
        "colab": {
          "base_uri": "https://localhost:8080/"
        },
        "id": "o6BWml24V827",
        "outputId": "0b2e7ef8-da78-4e59-f295-89ecab1547b2"
      },
      "execution_count": 2,
      "outputs": [
        {
          "output_type": "execute_result",
          "data": {
            "text/plain": [
              "{'name': 'Sujay', 'age': 21, 'sub': 'Data science'}"
            ]
          },
          "metadata": {},
          "execution_count": 2
        }
      ]
    },
    {
      "cell_type": "markdown",
      "source": [
        "--Modifying: we can modify by reassigning a value to an existing key."
      ],
      "metadata": {
        "id": "4DRNH6ocWxhi"
      }
    },
    {
      "cell_type": "code",
      "source": [
        "dict1['sub'] = 'Data analytics'\n",
        "dict1"
      ],
      "metadata": {
        "colab": {
          "base_uri": "https://localhost:8080/"
        },
        "id": "sNZZiAP_WuBL",
        "outputId": "e4fc8547-68ac-49d9-b522-a5a2d0cd4b7b"
      },
      "execution_count": 3,
      "outputs": [
        {
          "output_type": "execute_result",
          "data": {
            "text/plain": [
              "{'name': 'Sujay', 'age': 21, 'sub': 'Data analytics'}"
            ]
          },
          "metadata": {},
          "execution_count": 3
        }
      ]
    },
    {
      "cell_type": "markdown",
      "source": [
        "--Deleting: we can delete a key-value pair using del."
      ],
      "metadata": {
        "id": "6ATIUaSoXiFm"
      }
    },
    {
      "cell_type": "code",
      "source": [
        "del dict1['sub']\n",
        "dict1"
      ],
      "metadata": {
        "colab": {
          "base_uri": "https://localhost:8080/"
        },
        "id": "w9pyyxTxXgM1",
        "outputId": "a8a63535-2b5d-48ff-9ac8-956c9a8e04ee"
      },
      "execution_count": 4,
      "outputs": [
        {
          "output_type": "execute_result",
          "data": {
            "text/plain": [
              "{'name': 'Sujay', 'age': 21}"
            ]
          },
          "metadata": {},
          "execution_count": 4
        }
      ]
    },
    {
      "cell_type": "markdown",
      "source": [
        "# **8. Discuss the importance of  dictionary keys being immutable and provide examples.**\n",
        "\n",
        "Hashability:\n",
        "\n",
        "--Hashable objects are those which have fixed hash value. Dictionary keys needs to be hashable to ensure consistency, unique identifier in dictionary which is crucial for efficient lookups, insertion and deletions.\n",
        "\n",
        "Consistency:\n",
        "\n",
        "--Immutable objects avoid changes that could disrupt the structure of dictionary.\n",
        "If keys were mutable, modifying them could alter the hash values and disrupt the dictionary's organization.\n",
        "\n"
      ],
      "metadata": {
        "id": "-0D2i_3bbARv"
      }
    },
    {
      "cell_type": "code",
      "source": [
        "# Strings (immutable) as dictionary keys\n",
        "my_dict = {'name': 'Sujay', 'age': 21}\n",
        "print(my_dict['name'])\n",
        "\n",
        "# Tuples (immutable) as dictionary keys\n",
        "coords = {(0, 0): 'origin', (1, 1): 'diagonal'}\n",
        "print(coords[(0, 0)])\n"
      ],
      "metadata": {
        "colab": {
          "base_uri": "https://localhost:8080/"
        },
        "id": "iBoyY5uUX74l",
        "outputId": "d301e401-ec6d-440e-92fa-1ea8e35135b5"
      },
      "execution_count": 5,
      "outputs": [
        {
          "output_type": "stream",
          "name": "stdout",
          "text": [
            "Sujay\n",
            "origin\n"
          ]
        }
      ]
    },
    {
      "cell_type": "code",
      "source": [
        "#list mutable cannot be used as dictionary key.\n",
        "m_dict ={[1,2]:'list'}\n",
        "m_dict                   #expecting error"
      ],
      "metadata": {
        "colab": {
          "base_uri": "https://localhost:8080/",
          "height": 176
        },
        "id": "YD1EPsH_eLao",
        "outputId": "638678dd-616f-4e7d-a433-e1adfdd48a4f"
      },
      "execution_count": 6,
      "outputs": [
        {
          "output_type": "error",
          "ename": "TypeError",
          "evalue": "unhashable type: 'list'",
          "traceback": [
            "\u001b[0;31m---------------------------------------------------------------------------\u001b[0m",
            "\u001b[0;31mTypeError\u001b[0m                                 Traceback (most recent call last)",
            "\u001b[0;32m<ipython-input-6-dd589c76e441>\u001b[0m in \u001b[0;36m<cell line: 2>\u001b[0;34m()\u001b[0m\n\u001b[1;32m      1\u001b[0m \u001b[0;31m#list mutable cannot be used as dictionary key.\u001b[0m\u001b[0;34m\u001b[0m\u001b[0;34m\u001b[0m\u001b[0m\n\u001b[0;32m----> 2\u001b[0;31m \u001b[0mm_dict\u001b[0m \u001b[0;34m=\u001b[0m\u001b[0;34m{\u001b[0m\u001b[0;34m[\u001b[0m\u001b[0;36m1\u001b[0m\u001b[0;34m,\u001b[0m\u001b[0;36m2\u001b[0m\u001b[0;34m]\u001b[0m\u001b[0;34m:\u001b[0m\u001b[0;34m'list'\u001b[0m\u001b[0;34m}\u001b[0m\u001b[0;34m\u001b[0m\u001b[0;34m\u001b[0m\u001b[0m\n\u001b[0m\u001b[1;32m      3\u001b[0m \u001b[0mm_dict\u001b[0m                   \u001b[0;31m#expecting error\u001b[0m\u001b[0;34m\u001b[0m\u001b[0;34m\u001b[0m\u001b[0m\n",
            "\u001b[0;31mTypeError\u001b[0m: unhashable type: 'list'"
          ]
        }
      ]
    },
    {
      "cell_type": "code",
      "source": [],
      "metadata": {
        "id": "DN-SOt4Hera6"
      },
      "execution_count": null,
      "outputs": []
    }
  ]
}